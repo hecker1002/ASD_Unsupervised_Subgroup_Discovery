{
  "nbformat": 4,
  "nbformat_minor": 0,
  "metadata": {
    "colab": {
      "provenance": [],
      "authorship_tag": "ABX9TyMLTsNMrxmDCqZ+FarDGoaM",
      "include_colab_link": true
    },
    "kernelspec": {
      "name": "python3",
      "display_name": "Python 3"
    },
    "language_info": {
      "name": "python"
    }
  },
  "cells": [
    {
      "cell_type": "markdown",
      "metadata": {
        "id": "view-in-github",
        "colab_type": "text"
      },
      "source": [
        "<a href=\"https://colab.research.google.com/github/hecker1002/ASD_Unsupervised_Subgroup_Discovery/blob/main/GD_From_scratch.ipynb\" target=\"_parent\"><img src=\"https://colab.research.google.com/assets/colab-badge.svg\" alt=\"Open In Colab\"/></a>"
      ]
    },
    {
      "cell_type": "code",
      "execution_count": 117,
      "metadata": {
        "id": "3mXqPSNkfJ9B"
      },
      "outputs": [],
      "source": [
        "import numpy as np\n",
        "import pandas as pd\n",
        "import tensorflow as tf\n",
        "from tensorflow import keras\n",
        "import matplotlib.pyplot as plt\n",
        "import random"
      ]
    },
    {
      "cell_type": "code",
      "source": [
        "df = pd.read_csv(\"/content/houses.csv\")\n",
        "\n",
        "\n",
        "\n",
        "# url = 'https://www.kaggle.com/datasets/ashydv/housing-dataset/data?select=Housing.csv'\n",
        "# df = pd.read_csv(url, sep=\",\", encoding=\"utf-8\")\n",
        "\n"
      ],
      "metadata": {
        "id": "0Uc0qRVefgR9"
      },
      "execution_count": 180,
      "outputs": []
    },
    {
      "cell_type": "code",
      "source": [
        "df = df.drop(['bathrooms', 'stories', 'mainroad',\n",
        "       'guestroom', 'basement', 'hotwaterheating', 'airconditioning',\n",
        "       'parking', 'prefarea', 'furnishingstatus'] , axis =  1)"
      ],
      "metadata": {
        "id": "MR8xUORkfrNF"
      },
      "execution_count": 26,
      "outputs": []
    },
    {
      "cell_type": "code",
      "source": [
        "df.head()"
      ],
      "metadata": {
        "colab": {
          "base_uri": "https://localhost:8080/",
          "height": 206
        },
        "id": "UQuuixNggCD5",
        "outputId": "78a67a4f-d73e-43d6-a133-b136f969c939"
      },
      "execution_count": 27,
      "outputs": [
        {
          "output_type": "execute_result",
          "data": {
            "text/plain": [
              "      price  area  bedrooms\n",
              "0  13300000  7420         4\n",
              "1  12250000  8960         4\n",
              "2  12250000  9960         3\n",
              "3  12215000  7500         4\n",
              "4  11410000  7420         4"
            ],
            "text/html": [
              "\n",
              "  <div id=\"df-615d6590-4afb-4193-9c04-a2e54133859d\" class=\"colab-df-container\">\n",
              "    <div>\n",
              "<style scoped>\n",
              "    .dataframe tbody tr th:only-of-type {\n",
              "        vertical-align: middle;\n",
              "    }\n",
              "\n",
              "    .dataframe tbody tr th {\n",
              "        vertical-align: top;\n",
              "    }\n",
              "\n",
              "    .dataframe thead th {\n",
              "        text-align: right;\n",
              "    }\n",
              "</style>\n",
              "<table border=\"1\" class=\"dataframe\">\n",
              "  <thead>\n",
              "    <tr style=\"text-align: right;\">\n",
              "      <th></th>\n",
              "      <th>price</th>\n",
              "      <th>area</th>\n",
              "      <th>bedrooms</th>\n",
              "    </tr>\n",
              "  </thead>\n",
              "  <tbody>\n",
              "    <tr>\n",
              "      <th>0</th>\n",
              "      <td>13300000</td>\n",
              "      <td>7420</td>\n",
              "      <td>4</td>\n",
              "    </tr>\n",
              "    <tr>\n",
              "      <th>1</th>\n",
              "      <td>12250000</td>\n",
              "      <td>8960</td>\n",
              "      <td>4</td>\n",
              "    </tr>\n",
              "    <tr>\n",
              "      <th>2</th>\n",
              "      <td>12250000</td>\n",
              "      <td>9960</td>\n",
              "      <td>3</td>\n",
              "    </tr>\n",
              "    <tr>\n",
              "      <th>3</th>\n",
              "      <td>12215000</td>\n",
              "      <td>7500</td>\n",
              "      <td>4</td>\n",
              "    </tr>\n",
              "    <tr>\n",
              "      <th>4</th>\n",
              "      <td>11410000</td>\n",
              "      <td>7420</td>\n",
              "      <td>4</td>\n",
              "    </tr>\n",
              "  </tbody>\n",
              "</table>\n",
              "</div>\n",
              "    <div class=\"colab-df-buttons\">\n",
              "\n",
              "  <div class=\"colab-df-container\">\n",
              "    <button class=\"colab-df-convert\" onclick=\"convertToInteractive('df-615d6590-4afb-4193-9c04-a2e54133859d')\"\n",
              "            title=\"Convert this dataframe to an interactive table.\"\n",
              "            style=\"display:none;\">\n",
              "\n",
              "  <svg xmlns=\"http://www.w3.org/2000/svg\" height=\"24px\" viewBox=\"0 -960 960 960\">\n",
              "    <path d=\"M120-120v-720h720v720H120Zm60-500h600v-160H180v160Zm220 220h160v-160H400v160Zm0 220h160v-160H400v160ZM180-400h160v-160H180v160Zm440 0h160v-160H620v160ZM180-180h160v-160H180v160Zm440 0h160v-160H620v160Z\"/>\n",
              "  </svg>\n",
              "    </button>\n",
              "\n",
              "  <style>\n",
              "    .colab-df-container {\n",
              "      display:flex;\n",
              "      gap: 12px;\n",
              "    }\n",
              "\n",
              "    .colab-df-convert {\n",
              "      background-color: #E8F0FE;\n",
              "      border: none;\n",
              "      border-radius: 50%;\n",
              "      cursor: pointer;\n",
              "      display: none;\n",
              "      fill: #1967D2;\n",
              "      height: 32px;\n",
              "      padding: 0 0 0 0;\n",
              "      width: 32px;\n",
              "    }\n",
              "\n",
              "    .colab-df-convert:hover {\n",
              "      background-color: #E2EBFA;\n",
              "      box-shadow: 0px 1px 2px rgba(60, 64, 67, 0.3), 0px 1px 3px 1px rgba(60, 64, 67, 0.15);\n",
              "      fill: #174EA6;\n",
              "    }\n",
              "\n",
              "    .colab-df-buttons div {\n",
              "      margin-bottom: 4px;\n",
              "    }\n",
              "\n",
              "    [theme=dark] .colab-df-convert {\n",
              "      background-color: #3B4455;\n",
              "      fill: #D2E3FC;\n",
              "    }\n",
              "\n",
              "    [theme=dark] .colab-df-convert:hover {\n",
              "      background-color: #434B5C;\n",
              "      box-shadow: 0px 1px 3px 1px rgba(0, 0, 0, 0.15);\n",
              "      filter: drop-shadow(0px 1px 2px rgba(0, 0, 0, 0.3));\n",
              "      fill: #FFFFFF;\n",
              "    }\n",
              "  </style>\n",
              "\n",
              "    <script>\n",
              "      const buttonEl =\n",
              "        document.querySelector('#df-615d6590-4afb-4193-9c04-a2e54133859d button.colab-df-convert');\n",
              "      buttonEl.style.display =\n",
              "        google.colab.kernel.accessAllowed ? 'block' : 'none';\n",
              "\n",
              "      async function convertToInteractive(key) {\n",
              "        const element = document.querySelector('#df-615d6590-4afb-4193-9c04-a2e54133859d');\n",
              "        const dataTable =\n",
              "          await google.colab.kernel.invokeFunction('convertToInteractive',\n",
              "                                                    [key], {});\n",
              "        if (!dataTable) return;\n",
              "\n",
              "        const docLinkHtml = 'Like what you see? Visit the ' +\n",
              "          '<a target=\"_blank\" href=https://colab.research.google.com/notebooks/data_table.ipynb>data table notebook</a>'\n",
              "          + ' to learn more about interactive tables.';\n",
              "        element.innerHTML = '';\n",
              "        dataTable['output_type'] = 'display_data';\n",
              "        await google.colab.output.renderOutput(dataTable, element);\n",
              "        const docLink = document.createElement('div');\n",
              "        docLink.innerHTML = docLinkHtml;\n",
              "        element.appendChild(docLink);\n",
              "      }\n",
              "    </script>\n",
              "  </div>\n",
              "\n",
              "\n",
              "<div id=\"df-734c78b5-d972-49cc-a7ef-268f5446fa06\">\n",
              "  <button class=\"colab-df-quickchart\" onclick=\"quickchart('df-734c78b5-d972-49cc-a7ef-268f5446fa06')\"\n",
              "            title=\"Suggest charts\"\n",
              "            style=\"display:none;\">\n",
              "\n",
              "<svg xmlns=\"http://www.w3.org/2000/svg\" height=\"24px\"viewBox=\"0 0 24 24\"\n",
              "     width=\"24px\">\n",
              "    <g>\n",
              "        <path d=\"M19 3H5c-1.1 0-2 .9-2 2v14c0 1.1.9 2 2 2h14c1.1 0 2-.9 2-2V5c0-1.1-.9-2-2-2zM9 17H7v-7h2v7zm4 0h-2V7h2v10zm4 0h-2v-4h2v4z\"/>\n",
              "    </g>\n",
              "</svg>\n",
              "  </button>\n",
              "\n",
              "<style>\n",
              "  .colab-df-quickchart {\n",
              "      --bg-color: #E8F0FE;\n",
              "      --fill-color: #1967D2;\n",
              "      --hover-bg-color: #E2EBFA;\n",
              "      --hover-fill-color: #174EA6;\n",
              "      --disabled-fill-color: #AAA;\n",
              "      --disabled-bg-color: #DDD;\n",
              "  }\n",
              "\n",
              "  [theme=dark] .colab-df-quickchart {\n",
              "      --bg-color: #3B4455;\n",
              "      --fill-color: #D2E3FC;\n",
              "      --hover-bg-color: #434B5C;\n",
              "      --hover-fill-color: #FFFFFF;\n",
              "      --disabled-bg-color: #3B4455;\n",
              "      --disabled-fill-color: #666;\n",
              "  }\n",
              "\n",
              "  .colab-df-quickchart {\n",
              "    background-color: var(--bg-color);\n",
              "    border: none;\n",
              "    border-radius: 50%;\n",
              "    cursor: pointer;\n",
              "    display: none;\n",
              "    fill: var(--fill-color);\n",
              "    height: 32px;\n",
              "    padding: 0;\n",
              "    width: 32px;\n",
              "  }\n",
              "\n",
              "  .colab-df-quickchart:hover {\n",
              "    background-color: var(--hover-bg-color);\n",
              "    box-shadow: 0 1px 2px rgba(60, 64, 67, 0.3), 0 1px 3px 1px rgba(60, 64, 67, 0.15);\n",
              "    fill: var(--button-hover-fill-color);\n",
              "  }\n",
              "\n",
              "  .colab-df-quickchart-complete:disabled,\n",
              "  .colab-df-quickchart-complete:disabled:hover {\n",
              "    background-color: var(--disabled-bg-color);\n",
              "    fill: var(--disabled-fill-color);\n",
              "    box-shadow: none;\n",
              "  }\n",
              "\n",
              "  .colab-df-spinner {\n",
              "    border: 2px solid var(--fill-color);\n",
              "    border-color: transparent;\n",
              "    border-bottom-color: var(--fill-color);\n",
              "    animation:\n",
              "      spin 1s steps(1) infinite;\n",
              "  }\n",
              "\n",
              "  @keyframes spin {\n",
              "    0% {\n",
              "      border-color: transparent;\n",
              "      border-bottom-color: var(--fill-color);\n",
              "      border-left-color: var(--fill-color);\n",
              "    }\n",
              "    20% {\n",
              "      border-color: transparent;\n",
              "      border-left-color: var(--fill-color);\n",
              "      border-top-color: var(--fill-color);\n",
              "    }\n",
              "    30% {\n",
              "      border-color: transparent;\n",
              "      border-left-color: var(--fill-color);\n",
              "      border-top-color: var(--fill-color);\n",
              "      border-right-color: var(--fill-color);\n",
              "    }\n",
              "    40% {\n",
              "      border-color: transparent;\n",
              "      border-right-color: var(--fill-color);\n",
              "      border-top-color: var(--fill-color);\n",
              "    }\n",
              "    60% {\n",
              "      border-color: transparent;\n",
              "      border-right-color: var(--fill-color);\n",
              "    }\n",
              "    80% {\n",
              "      border-color: transparent;\n",
              "      border-right-color: var(--fill-color);\n",
              "      border-bottom-color: var(--fill-color);\n",
              "    }\n",
              "    90% {\n",
              "      border-color: transparent;\n",
              "      border-bottom-color: var(--fill-color);\n",
              "    }\n",
              "  }\n",
              "</style>\n",
              "\n",
              "  <script>\n",
              "    async function quickchart(key) {\n",
              "      const quickchartButtonEl =\n",
              "        document.querySelector('#' + key + ' button');\n",
              "      quickchartButtonEl.disabled = true;  // To prevent multiple clicks.\n",
              "      quickchartButtonEl.classList.add('colab-df-spinner');\n",
              "      try {\n",
              "        const charts = await google.colab.kernel.invokeFunction(\n",
              "            'suggestCharts', [key], {});\n",
              "      } catch (error) {\n",
              "        console.error('Error during call to suggestCharts:', error);\n",
              "      }\n",
              "      quickchartButtonEl.classList.remove('colab-df-spinner');\n",
              "      quickchartButtonEl.classList.add('colab-df-quickchart-complete');\n",
              "    }\n",
              "    (() => {\n",
              "      let quickchartButtonEl =\n",
              "        document.querySelector('#df-734c78b5-d972-49cc-a7ef-268f5446fa06 button');\n",
              "      quickchartButtonEl.style.display =\n",
              "        google.colab.kernel.accessAllowed ? 'block' : 'none';\n",
              "    })();\n",
              "  </script>\n",
              "</div>\n",
              "    </div>\n",
              "  </div>\n"
            ]
          },
          "metadata": {},
          "execution_count": 27
        }
      ]
    },
    {
      "cell_type": "code",
      "source": [
        "from sklearn import preprocessing\n",
        "\n",
        "sx = preprocessing.MinMaxScaler(  )\n",
        "sy = preprocessing.MinMaxScaler( )\n",
        "\n",
        "scaled_x = sx.fit_transform(df.drop('price'  , axis =1 ))\n",
        "scaled_y = sy.fit_transform( df['price'].values.reshape(df.shape[0] , 1) )"
      ],
      "metadata": {
        "id": "ALthB_q7gHGU"
      },
      "execution_count": 28,
      "outputs": []
    },
    {
      "cell_type": "code",
      "source": [
        "# activation\n",
        "\n",
        "def Relu( z) :\n",
        "  return max( 0 , z)"
      ],
      "metadata": {
        "id": "0qsNppVczsLi"
      },
      "execution_count": 33,
      "outputs": []
    },
    {
      "cell_type": "code",
      "source": [
        "W = np.ones(shape = (2  ))\n",
        "W"
      ],
      "metadata": {
        "colab": {
          "base_uri": "https://localhost:8080/"
        },
        "id": "67PsOuMlDWDb",
        "outputId": "caa6a4cf-b353-494f-df05-929ec1d39d9d"
      },
      "execution_count": 62,
      "outputs": [
        {
          "output_type": "execute_result",
          "data": {
            "text/plain": [
              "array([1., 1.])"
            ]
          },
          "metadata": {},
          "execution_count": 62
        }
      ]
    },
    {
      "cell_type": "code",
      "source": [
        "# Batch GD - dataset small , in 1 epoch , takes all training samples , computes loss from ALL of them and then only updates weights during backpropogation .\n",
        "\n",
        "def batch_gradient_descent( X , y_true , epochs , rate ) :\n",
        "  n = X.shape[0] # rows\n",
        "  num_features = X.shape[1] # columns\n",
        "\n",
        "  # initialize random weights and biases for neural network\n",
        "\n",
        "  W = np.ones(shape = (num_features )) # its a flat ( 1D array , since no comma used ) of size  = 1 x 2\n",
        "  bias = 0\n",
        "  loss = 0\n",
        "\n",
        "  cost_list = []\n",
        "  epoch_list = []\n",
        "\n",
        "  # in1  epoch , take all training samples , compute loss and update weights\n",
        "\n",
        "  # assume , NN has only 1 neuron = (weihted sum -> activation )\n",
        "\n",
        "  for i in range(epochs) :\n",
        "\n",
        "\n",
        "    y_pred = np.dot(W , X.T )  + bias  # weighted sum + bias\n",
        "\n",
        "    # for a regression task , avoid activation (in Output LAyer) , but actiavtion in hidden layers is necessary to fit a non-linear model on real-world data\n",
        "\n",
        "    # we are NOT usig another for loop inside this epoch loop  to go througha ll training samples as this job is already done by - np\n",
        "    # where X = not a single data point , but all the data points together\n",
        "\n",
        "    # d(loss)/ d(w1) = -2/n * Summ(x_i * (y_i - y_i_pred))  -> remeer the negative value\n",
        "\n",
        "    dL_dw = -(1/ n) * (X.T .dot( y_true - y_pred) )  # y_true =  is 1 column vector and y_pred= 1 row vector , so while calling the func , conveet y_true in 1 D array\n",
        "    dL_db = -(1/ n) * np.sum( y_true - y_pred )  # bias updated value decided by all weights cummulatively\n",
        "\n",
        "    # Use geenral GD  algo.\n",
        "\n",
        "    W = W - rate*(dL_dw)\n",
        "    bias = bias - rate*(dL_db)\n",
        "\n",
        "    # calculate actual loss in this epoch , due to which weights were adjusted\n",
        "\n",
        "    loss =  np.mean (    np.square (y_true - y_pred ) )  # loss = MSE = (y_true - y_pred ) ^ 2\n",
        "\n",
        "    # plot the cost v/s epoch graph to compare diff. GD algo  .\n",
        "\n",
        "    if i%10 ==0 :\n",
        "      cost_list.append(loss )\n",
        "      epoch_list.append(i)\n",
        "\n",
        "\n",
        "  return W , bias , loss  , cost_list , epoch_list\n",
        "\n",
        "\n",
        "# here , NN has ONLY 1 neuron with 2 weights ( 2 features) that predicts a continuous value\n",
        "\n",
        "\n",
        "\n",
        "# Niw , our Neural Network of 1 neuron is ready ( using BGD)\n"
      ],
      "metadata": {
        "id": "lU5_babShvW0"
      },
      "execution_count": 92,
      "outputs": []
    },
    {
      "cell_type": "code",
      "source": [
        "w , bias , loss , cost_list , epoch_list = batch_gradient_descent(scaled_x , scaled_y.reshape(scaled_y.shape[0]) , 500 , 0.01 )  # here , y becomes a flat array 1D array ( 1 x n )\n",
        "\n"
      ],
      "metadata": {
        "id": "gEsbMDiWAqG7"
      },
      "execution_count": 93,
      "outputs": []
    },
    {
      "cell_type": "code",
      "source": [
        "w[0] , w[1]"
      ],
      "metadata": {
        "colab": {
          "base_uri": "https://localhost:8080/"
        },
        "id": "yg9x2soWHeGS",
        "outputId": "8d58266e-4951-4c64-8555-3fef803d9b36"
      },
      "execution_count": 98,
      "outputs": [
        {
          "output_type": "execute_result",
          "data": {
            "text/plain": [
              "(0.8812779177601352, 0.8239636922895498)"
            ]
          },
          "metadata": {},
          "execution_count": 98
        }
      ]
    },
    {
      "cell_type": "code",
      "source": [
        "# cost v/s epoch - in batch gradient descent algo .\n",
        "\n",
        "plt.plot(epoch_list , cost_list )\n",
        "plt.show()"
      ],
      "metadata": {
        "colab": {
          "base_uri": "https://localhost:8080/",
          "height": 430
        },
        "id": "Fv9oG1URGEaG",
        "outputId": "f644faa2-b5bf-4612-8009-eb1d41b347a0"
      },
      "execution_count": 96,
      "outputs": [
        {
          "output_type": "display_data",
          "data": {
            "text/plain": [
              "<Figure size 640x480 with 1 Axes>"
            ],
            "image/png": "[encoded data removed]"
          },
          "metadata": {}
        }
      ]
    },
    {
      "cell_type": "code",
      "source": [
        "def predict_bgd(area , bedroom  ) :\n",
        "  scale_x = sx.transform([ [ area , bedroom ] ] )[0] # since it return a 2D array\n",
        "\n",
        "  y_pred_scaled = w[0]*scale_x[0] + w[1]*scale_x[1] + bias # ita a value that has been scaled\n",
        "\n",
        "  # Use inverse scaler to cancel the effect of scaling and return the original price\n",
        "\n",
        "\n",
        "  return sy.inverse_transform( [[ y_pred_scaled ] ] )"
      ],
      "metadata": {
        "id": "BIBS-kZOJ8Zk"
      },
      "execution_count": 101,
      "outputs": []
    },
    {
      "cell_type": "code",
      "source": [
        "print(predict_bgd(9000 , 4)[0][0])\n"
      ],
      "metadata": {
        "colab": {
          "base_uri": "https://localhost:8080/"
        },
        "id": "SvF0vzaFLVqA",
        "outputId": "d4487cb0-f58d-401d-bf98-4820dd9af487"
      },
      "execution_count": 105,
      "outputs": [
        {
          "output_type": "stream",
          "name": "stdout",
          "text": [
            "9370994.164022017\n"
          ]
        },
        {
          "output_type": "stream",
          "name": "stderr",
          "text": [
            "/usr/local/lib/python3.10/dist-packages/sklearn/base.py:439: UserWarning: X does not have valid feature names, but MinMaxScaler was fitted with feature names\n",
            "  warnings.warn(\n"
          ]
        }
      ]
    },
    {
      "cell_type": "code",
      "source": [
        "# Stochastic GD  - it takes randomly a single training samle in each epoch and updates the weight in same epoch and then moves to next training sample / epoch\n",
        "\n",
        "\n",
        "def stoch_gradient_descent( X , y_true , epochs , rate ) :\n",
        "  n = X.shape[0] # rows\n",
        "  num_features = X.shape[1] # columns\n",
        "\n",
        "  # initialize random weights and biases for neural network\n",
        "\n",
        "  W = np.ones(shape = (num_features )) # its a flat ( 1D array , since no comma used ) of size  = 1 x 2\n",
        "  bias = 0\n",
        "  loss = 0\n",
        "\n",
        "  cost_list = []\n",
        "  epoch_list = []\n",
        "\n",
        "  for i in range(epochs) :\n",
        "\n",
        "    # randomly pick a training sample from 0 to (total_samples )\n",
        "    rand_row = random.randint(0 , n-1 )\n",
        "\n",
        "\n",
        "\n",
        "    y_pred = np.dot(W , X[rand_row].T )  + bias # compute wrt random X , corresponding random Y\n",
        "\n",
        "    dL_dw = -(1/ n) * (X[rand_row].T .dot( y_true[rand_row] - y_pred) )  # y_true =  is 1 column vector and y_pred= 1 row vector , so while calling the func , conveet y_true in 1 D array\n",
        "    dL_db = -(1/ n) * np.sum( y_true[rand_row] - y_pred )  # bias updated value decided by all weights cummulatively\n",
        "\n",
        "    # Use geenral GD  algo.\n",
        "\n",
        "    W = W - rate*(dL_dw)\n",
        "    bias = bias - rate*(dL_db)\n",
        "\n",
        "    # calculate actual loss in this epoch , due to which weights were adjusted\n",
        "\n",
        "    loss =  np.mean (    np.square (y_true[rand_row ] - y_pred ) )  # loss = MSE = (y_true - y_pred ) ^ 2\n",
        "\n",
        "    # plot the cost v/s epoch graph to compare diff. GD algo  .\n",
        "\n",
        "    if i%10 ==0 :\n",
        "      cost_list.append(loss )\n",
        "      epoch_list.append(i)\n",
        "\n",
        "\n",
        "  return W , bias , loss  , cost_list , epoch_list\n",
        "\n",
        "\n",
        "\n",
        "\n",
        "\n",
        "\n"
      ],
      "metadata": {
        "id": "fSJINltYMA6C"
      },
      "execution_count": 148,
      "outputs": []
    },
    {
      "cell_type": "code",
      "source": [
        "w1, bias1 , loss1 , cost_list1 , epoch_list1 = stoch_gradient_descent(scaled_x , scaled_y.reshape(scaled_y.shape[0]) , 1000 , 0.01 )  # here , y becomes a flat array 1D array ( 1 x n )\n",
        "w1\n"
      ],
      "metadata": {
        "colab": {
          "base_uri": "https://localhost:8080/"
        },
        "id": "-7EAgGoYN5ww",
        "outputId": "2660e4bd-1cce-4c87-969f-3770d13236fc"
      },
      "execution_count": 149,
      "outputs": [
        {
          "output_type": "execute_result",
          "data": {
            "text/plain": [
              "array([0.99814759, 0.99699652])"
            ]
          },
          "metadata": {},
          "execution_count": 149
        }
      ]
    },
    {
      "cell_type": "code",
      "source": [
        "# cost v/s epoch - in stochastic gradient descent algo .\n",
        "\n",
        "plt.plot(epoch_list1 , cost_list1 )\n",
        "plt.show()"
      ],
      "metadata": {
        "colab": {
          "base_uri": "https://localhost:8080/",
          "height": 430
        },
        "id": "euQxGlibN57K",
        "outputId": "cdd3930d-4849-40b1-80d5-52dc83b4f878"
      },
      "execution_count": 128,
      "outputs": [
        {
          "output_type": "display_data",
          "data": {
            "text/plain": [
              "<Figure size 640x480 with 1 Axes>"
            ],
            "image/png": "[encoded data removed]"
          },
          "metadata": {}
        }
      ]
    },
    {
      "cell_type": "code",
      "source": [
        "def predict_sgd(area , bedroom  ) :\n",
        "  scale_x = sx.transform([ [ area , bedroom ] ] )[0] # since it return a 2D array\n",
        "\n",
        "  y_pred_scaled = w1[0]*scale_x[0] + w1[1]*scale_x[1] + bias1 # ita a value that has been scaled\n",
        "\n",
        "  # Use inverse scaler to cancel the effect of scaling and return the original price\n",
        "\n",
        "\n",
        "  return sy.inverse_transform( [[ y_pred_scaled ] ] )"
      ],
      "metadata": {
        "id": "BT2TEQvdPhNP"
      },
      "execution_count": 132,
      "outputs": []
    },
    {
      "cell_type": "code",
      "source": [
        "predict_sgd(9000 , 4)[0][0]"
      ],
      "metadata": {
        "colab": {
          "base_uri": "https://localhost:8080/"
        },
        "id": "uYg8UKiNPlF2",
        "outputId": "a9532b2f-5ae6-4732-a64c-043d72f0a7c2"
      },
      "execution_count": 133,
      "outputs": [
        {
          "output_type": "stream",
          "name": "stderr",
          "text": [
            "/usr/local/lib/python3.10/dist-packages/sklearn/base.py:439: UserWarning: X does not have valid feature names, but MinMaxScaler was fitted with feature names\n",
            "  warnings.warn(\n"
          ]
        },
        {
          "output_type": "execute_result",
          "data": {
            "text/plain": [
              "14406898.63265911"
            ]
          },
          "metadata": {},
          "execution_count": 133
        }
      ]
    },
    {
      "cell_type": "code",
      "source": [
        "# MIni Batch GD  - it takes randomly a batch (collection) training samle in each epoch and updates the weight in same epoch after computing loss from whole of that batch  and then moves to next training sample / epoch\n",
        "\n",
        "\n",
        "def mini_batch_gradient_descent( X , y_true , epochs , rate , batch_size  ) :\n",
        "  n = X.shape[0] # rows\n",
        "  num_features = X.shape[1] # columns\n",
        "\n",
        "  # initialize random weights and biases for neural network\n",
        "\n",
        "  W = np.ones(shape = (num_features )) # its a flat ( 1D array , since no comma used ) of size  = 1 x 2\n",
        "  bias = 0\n",
        "  loss = 0\n",
        "\n",
        "  cost_list = []\n",
        "  epoch_list = []\n",
        "\n",
        "  for i in range(epochs) :\n",
        "\n",
        "    # randomly pick a training sample from 0 to (total_samples )\n",
        "    rand_indices = np.random.permutation(n)\n",
        "\n",
        "    X_tmp = X[rand_indices]\n",
        "    y_tmp = y_true[rand_indices]\n",
        "\n",
        "    for j in range(0,n,batch_size):\n",
        "            Xj = X_tmp[j:j+batch_size]\n",
        "            yj = y_tmp[j:j+batch_size]\n",
        "\n",
        "            y_pred = np.dot(W , Xj.T )  + bias # compute wrt random X , corresponding random Y\n",
        "\n",
        "            dL_dw = -(1/ n) * (Xj.T .dot( yj - y_pred) )  # y_true =  is 1 column vector and y_pred= 1 row vector , so while calling the func , conveet y_true in 1 D array\n",
        "            dL_db = -(1/ n) * np.sum( yj - y_pred )  # bias updated value decided by all weights cummulatively\n",
        "\n",
        "    # Use geenral GD  algo.\n",
        "\n",
        "            W = W - rate*(dL_dw)\n",
        "            bias = bias - rate*(dL_db)\n",
        "\n",
        "    # calculate actual loss in this epoch , due to which weights were adjusted\n",
        "\n",
        "            loss =  np.mean (    np.square (yj - y_pred ) )  # loss = MSE = (y_true - y_pred ) ^ 2\n",
        "\n",
        "\n",
        "\n",
        "\n",
        "    # plot the cost v/s epoch graph to compare diff. GD algo  .\n",
        "\n",
        "    if i%10 ==0 :\n",
        "      cost_list.append(loss )\n",
        "      epoch_list.append(i)\n",
        "\n",
        "\n",
        "  return W , bias , loss  , cost_list , epoch_list\n",
        "\n",
        "\n",
        "\n",
        "\n",
        "\n",
        "\n"
      ],
      "metadata": {
        "id": "F58GzjuWP76j"
      },
      "execution_count": 171,
      "outputs": []
    },
    {
      "cell_type": "code",
      "source": [
        "w2, bias2 , loss2 , cost_list2 , epoch_list2 = mini_batch_gradient_descent(scaled_x , scaled_y.reshape(scaled_y.shape[0]) , 1000 , 0.01 , 5 )  # here , y becomes a flat array 1D array ( 1 x n )\n",
        "\n"
      ],
      "metadata": {
        "id": "QJyj6jC8Ri5C"
      },
      "execution_count": 174,
      "outputs": []
    },
    {
      "cell_type": "code",
      "source": [
        "# cost v/s epoch - in stochastic gradient descent algo .\n",
        "\n",
        "plt.plot(epoch_list2, cost_list2 )\n",
        "plt.show()"
      ],
      "metadata": {
        "colab": {
          "base_uri": "https://localhost:8080/",
          "height": 430
        },
        "id": "s2UDwDJtRyPi",
        "outputId": "7c4445bc-c4e0-4629-fe2a-1f65ef41c0f2"
      },
      "execution_count": 175,
      "outputs": [
        {
          "output_type": "display_data",
          "data": {
            "text/plain": [
              "<Figure size 640x480 with 1 Axes>"
            ],
            "image/png": "[encoded data removed]"
          },
          "metadata": {}
        }
      ]
    }
  ]
}